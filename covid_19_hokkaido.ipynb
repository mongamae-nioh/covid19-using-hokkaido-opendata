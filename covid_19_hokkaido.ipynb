{
  "nbformat": 4,
  "nbformat_minor": 0,
  "metadata": {
    "colab": {
      "name": "covid-19_hokkaido.ipynb",
      "provenance": [],
      "collapsed_sections": [],
      "authorship_tag": "ABX9TyO1AiVoA+G0AWSaLg1LGIFp",
      "include_colab_link": true
    },
    "kernelspec": {
      "name": "python3",
      "display_name": "Python 3"
    }
  },
  "cells": [
    {
      "cell_type": "markdown",
      "metadata": {
        "id": "view-in-github",
        "colab_type": "text"
      },
      "source": [
        "<a href=\"https://colab.research.google.com/github/mongamae-nioh/covid19-using-hokkaido-opendata/blob/master/covid_19_hokkaido.ipynb\" target=\"_parent\"><img src=\"https://colab.research.google.com/assets/colab-badge.svg\" alt=\"Open In Colab\"/></a>"
      ]
    },
    {
      "cell_type": "markdown",
      "metadata": {
        "id": "x5YDSFI_woxk",
        "colab_type": "text"
      },
      "source": [
        "北海道オープンデータポータル\n",
        "新型コロナウイルス感染症に関するデータ【北海道】\n"
      ]
    },
    {
      "cell_type": "code",
      "metadata": {
        "id": "XdReC8gHxtKE",
        "colab_type": "code",
        "colab": {}
      },
      "source": [
        "import pandas as pd"
      ],
      "execution_count": 0,
      "outputs": []
    },
    {
      "cell_type": "code",
      "metadata": {
        "id": "OgzED3urz9vh",
        "colab_type": "code",
        "colab": {}
      },
      "source": [
        "# 陽性患者属性\n",
        "patient_data_url = 'https://www.harp.lg.jp/opendata/dataset/1369/resource/2828/patients.csv'\n",
        "df = pd.read_csv(patient_data_url, index_col=0, encoding = \"shift-jis\")"
      ],
      "execution_count": 0,
      "outputs": []
    },
    {
      "cell_type": "code",
      "metadata": {
        "id": "4gPqO-Y1O22R",
        "colab_type": "code",
        "colab": {}
      },
      "source": [
        "# 最新の陽性患者属性\n",
        "latest = df.tail(1)\n",
        "\n",
        "for i in latest[\"リリース日\"]:\n",
        "  df2 = df[df[\"リリース日\"].str.contains(i, na=False)]"
      ],
      "execution_count": 0,
      "outputs": []
    },
    {
      "cell_type": "code",
      "metadata": {
        "id": "3WDObJBwZZq1",
        "colab_type": "code",
        "colab": {
          "base_uri": "https://localhost:8080/",
          "height": 35
        },
        "outputId": "6199c3f1-09da-4ee4-ade9-b1a4178eef4a"
      },
      "source": [
        "# 陽性患者居住者\n",
        "list = []\n",
        "for j in range(len(df3)):\n",
        "  list.append(df3.iloc[j][\"居住地\"])\n",
        "\n",
        "#print(list)"
      ],
      "execution_count": 205,
      "outputs": [
        {
          "output_type": "stream",
          "text": [
            "['札幌市', '札幌市', '旭川市']\n"
          ],
          "name": "stdout"
        }
      ]
    },
    {
      "cell_type": "code",
      "metadata": {
        "id": "0k5n3Diof2YG",
        "colab_type": "code",
        "colab": {
          "base_uri": "https://localhost:8080/",
          "height": 359
        },
        "outputId": "9ca554cc-5f5b-41a3-e2d1-f7ce20798682"
      },
      "source": [
        "covid19_data_url = 'https://www.harp.lg.jp/opendata/dataset/1369/resource/2853/covid19_data.csv'\n",
        "df = pd.read_csv(covid19_data_url, index_col=0, encoding = \"shift-jis\")\n",
        "\n",
        "# 最新データ\n",
        "latest = df.tail(1)\n",
        "\n",
        "# 各データプリント\n",
        "for i in latest.keys():\n",
        "  print(i + ':' + str(latest.iloc[0][i]))\n",
        "\n",
        "# 変数へ格納\n",
        "year = latest.iloc[0][\"年\"]\n",
        "month = latest.iloc[0][\"月\"]\n",
        "day = latest.iloc[0][\"日\"]\n",
        "inspections_per_day = latest.iloc[0][\"日検査数\"]\n",
        "inspection_total = latest.iloc[0][\"検査累計\"]\n",
        "positive_per_day = latest.iloc[0][\"日陽性数\"]\n",
        "positives_total = latest.iloc[0][\"陽性累計\"]\n",
        "patients_per_day = latest.iloc[0][\"日患者数\"]\n",
        "patient_totals = latest.iloc[0][\"患者累計\"]\n",
        "mild_per_day = latest.iloc[0][\"日軽症中等症数\"]\n",
        "mild_total = latest.iloc[0][\"軽症中等症累計\"]\n",
        "serious_injury_per_day = latest.iloc[0][\"日重症数\"]\n",
        "serious_injury_total = latest.iloc[0][\"重症累計\"]\n",
        "daily_deaths = latest.iloc[0][\"日死亡数\"]\n",
        "deaths_total = latest.iloc[0][\"死亡累計\"]\n",
        "finished_treatment_per_day = latest.iloc[0][\"日治療終了数\"]\n",
        "finished_treatment_total = latest.iloc[0][\"治療終了累計\"]"
      ],
      "execution_count": 210,
      "outputs": [
        {
          "output_type": "stream",
          "text": [
            "年:2020\n",
            "月:3\n",
            "日:19\n",
            "日検査数:65.0\n",
            "検査累計:1652.0\n",
            "日陽性数:3\n",
            "陽性累計:157\n",
            "日患者数:-5\n",
            "患者累計:70\n",
            "日軽症中等症数:-5.0\n",
            "軽症中等症累計:64.0\n",
            "日重症数:0.0\n",
            "重症累計:6.0\n",
            "日死亡数:0\n",
            "死亡累計:6\n",
            "日治療終了数:8.0\n",
            "治療終了累計:81.0\n",
            "備考:nan\n",
            "2020\n"
          ],
          "name": "stdout"
        }
      ]
    }
  ]
}