{
  "nbformat": 4,
  "nbformat_minor": 0,
  "metadata": {
    "colab": {
      "name": "covid-19_graph_hokkaido.ipynb",
      "provenance": [],
      "collapsed_sections": [],
      "authorship_tag": "ABX9TyMPaGb+OTjYcb9X7/iyTvJp",
      "include_colab_link": true
    },
    "kernelspec": {
      "name": "python3",
      "display_name": "Python 3"
    }
  },
  "cells": [
    {
      "cell_type": "markdown",
      "metadata": {
        "id": "view-in-github",
        "colab_type": "text"
      },
      "source": [
        "<a href=\"https://colab.research.google.com/github/mongamae-nioh/covid19-using-hokkaido-opendata/blob/master/covid_19_graph_hokkaido.ipynb\" target=\"_parent\"><img src=\"https://colab.research.google.com/assets/colab-badge.svg\" alt=\"Open In Colab\"/></a>"
      ]
    },
    {
      "cell_type": "markdown",
      "metadata": {
        "id": "x5YDSFI_woxk",
        "colab_type": "text"
      },
      "source": [
        "北海道オープンデータポータル\n",
        "新型コロナウイルス感染症に関するデータ【北海道】\n"
      ]
    },
    {
      "cell_type": "code",
      "metadata": {
        "id": "XdReC8gHxtKE",
        "colab_type": "code",
        "colab": {}
      },
      "source": [
        "!pip install japanize-matplotlib\n",
        "import pandas as pd\n",
        "import matplotlib.pyplot as plt\n",
        "import japanize_matplotlib"
      ],
      "execution_count": 0,
      "outputs": []
    },
    {
      "cell_type": "code",
      "metadata": {
        "id": "0k5n3Diof2YG",
        "colab_type": "code",
        "colab": {}
      },
      "source": [
        "# オープンデータ取得\n",
        "covid19_data_url = 'https://www.harp.lg.jp/opendata/dataset/1369/resource/2853/covid19_data.csv'\n",
        "df = pd.read_csv(covid19_data_url, index_col=0, encoding = \"shift-jis\")"
      ],
      "execution_count": 0,
      "outputs": []
    },
    {
      "cell_type": "code",
      "metadata": {
        "id": "owwFHRA2QsnV",
        "colab_type": "code",
        "colab": {}
      },
      "source": [
        "# グラフ作成\n",
        "def display_graph(graphtitle, labelx, labely, targetdata):\n",
        "  x_value = []\n",
        "  y_value = []\n",
        "\n",
        "  i = 0\n",
        "  for i in range(len(df)):\n",
        "    x_value.append(str(df.iloc[i][\"月\"]) + '/' + str(df.iloc[i][\"日\"]))\n",
        "    y_value.append(df.iloc[i][targetdata])\n",
        "    i += 1\n",
        "\n",
        "  size = 20\n",
        "  plt.figure(figsize=(30,15))\n",
        "  plt.grid(True)\n",
        "  plt.bar(x_value, y_value)\n",
        "  plt.xlabel(labelx, fontsize=size)\n",
        "  plt.ylabel(labely, fontsize=size)\n",
        "  plt.title(graphtitle, fontsize=size)\n",
        "  plt.savefig(targetdata + '.png')"
      ],
      "execution_count": 0,
      "outputs": []
    },
    {
      "cell_type": "code",
      "metadata": {
        "id": "p4b2PKV4RGJv",
        "colab_type": "code",
        "colab": {}
      },
      "source": [
        "display_graph('1日の陽性患者数', '日', '患者数', '日陽性数')"
      ],
      "execution_count": 0,
      "outputs": []
    },
    {
      "cell_type": "code",
      "metadata": {
        "id": "5lb6rZCQUI9n",
        "colab_type": "code",
        "colab": {}
      },
      "source": [
        "display_graph('陽性患者累計', '日', '患者数', '陽性累計')"
      ],
      "execution_count": 0,
      "outputs": []
    },
    {
      "cell_type": "code",
      "metadata": {
        "id": "lIvoluCfUzOu",
        "colab_type": "code",
        "colab": {}
      },
      "source": [
        "display_graph('患者数累計', '日', '患者数', '患者累計')"
      ],
      "execution_count": 0,
      "outputs": []
    },
    {
      "cell_type": "code",
      "metadata": {
        "id": "QUZAiZqyU_BI",
        "colab_type": "code",
        "colab": {}
      },
      "source": [
        "display_graph('治療終了者累計', '日', '治療終了者数', '治療終了累計')"
      ],
      "execution_count": 0,
      "outputs": []
    },
    {
      "cell_type": "code",
      "metadata": {
        "id": "aD2k_6W-UaH-",
        "colab_type": "code",
        "colab": {}
      },
      "source": [
        "display_graph('検査累計', '日', '検査者数', '検査累計')"
      ],
      "execution_count": 0,
      "outputs": []
    }
  ]
}